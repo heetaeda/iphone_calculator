{
 "cells": [
  {
   "cell_type": "markdown",
   "metadata": {},
   "source": [
    "# 최근 10년 물가 상승률 (2013 ~ 2023)"
   ]
  },
  {
   "cell_type": "markdown",
   "metadata": {},
   "source": [
    "### 팀 AWS db 에 접근"
   ]
  },
  {
   "cell_type": "code",
   "execution_count": 81,
   "metadata": {},
   "outputs": [],
   "source": [
    "import mysql\n",
    "import mysql.connector\n",
    "\n",
    "remote = mysql.connector.connect(\n",
    "    host = 'database-1.cp2kuggswzva.ap-northeast-2.rds.amazonaws.com',\n",
    "    port = '3306',\n",
    "    user = 'master',\n",
    "    password = '0000',\n",
    "    database = 'edaproject'\n",
    ")\n",
    "\n",
    "cur = remote.cursor()"
   ]
  },
  {
   "cell_type": "markdown",
   "metadata": {},
   "source": [
    "### 테이블 생성\n",
    "\n",
    "- YEAR : 연도\n",
    "\n",
    "- RATE : 전년대비 상승률\n"
   ]
  },
  {
   "cell_type": "code",
   "execution_count": 65,
   "metadata": {},
   "outputs": [],
   "source": [
    "# 테이블 생성하는 쿼리\n",
    "create_table_quary = \"\"\"\n",
    "CREATE TABLE INFLATION_RATE_YEARLY (\n",
    "    YEAR INT,\n",
    "    RATE FLOAT\n",
    ")\"\"\"\n",
    "\n",
    "cur.execute(create_table_quary)"
   ]
  },
  {
   "cell_type": "markdown",
   "metadata": {},
   "source": [
    "### 물가 csv 파일 읽어오기"
   ]
  },
  {
   "cell_type": "code",
   "execution_count": 71,
   "metadata": {},
   "outputs": [
    {
     "data": {
      "text/html": [
       "<div>\n",
       "<style scoped>\n",
       "    .dataframe tbody tr th:only-of-type {\n",
       "        vertical-align: middle;\n",
       "    }\n",
       "\n",
       "    .dataframe tbody tr th {\n",
       "        vertical-align: top;\n",
       "    }\n",
       "\n",
       "    .dataframe thead th {\n",
       "        text-align: right;\n",
       "    }\n",
       "</style>\n",
       "<table border=\"1\" class=\"dataframe\">\n",
       "  <thead>\n",
       "    <tr style=\"text-align: right;\">\n",
       "      <th></th>\n",
       "      <th>지수종류(1)</th>\n",
       "      <th>2013</th>\n",
       "      <th>2014</th>\n",
       "      <th>2015</th>\n",
       "      <th>2016</th>\n",
       "      <th>2017</th>\n",
       "      <th>2018</th>\n",
       "      <th>2019</th>\n",
       "      <th>2020</th>\n",
       "      <th>2021</th>\n",
       "      <th>2022</th>\n",
       "      <th>2023</th>\n",
       "    </tr>\n",
       "  </thead>\n",
       "  <tbody>\n",
       "    <tr>\n",
       "      <th>0</th>\n",
       "      <td>총지수</td>\n",
       "      <td>1.3</td>\n",
       "      <td>1.3</td>\n",
       "      <td>0.7</td>\n",
       "      <td>1.0</td>\n",
       "      <td>1.9</td>\n",
       "      <td>1.5</td>\n",
       "      <td>0.4</td>\n",
       "      <td>0.5</td>\n",
       "      <td>2.5</td>\n",
       "      <td>5.1</td>\n",
       "      <td>3.6</td>\n",
       "    </tr>\n",
       "    <tr>\n",
       "      <th>1</th>\n",
       "      <td>생활물가지수</td>\n",
       "      <td>0.7</td>\n",
       "      <td>0.8</td>\n",
       "      <td>-0.2</td>\n",
       "      <td>0.7</td>\n",
       "      <td>2.5</td>\n",
       "      <td>1.6</td>\n",
       "      <td>0.2</td>\n",
       "      <td>0.4</td>\n",
       "      <td>3.2</td>\n",
       "      <td>6.0</td>\n",
       "      <td>3.9</td>\n",
       "    </tr>\n",
       "    <tr>\n",
       "      <th>2</th>\n",
       "      <td>신선식품지수</td>\n",
       "      <td>-1.3</td>\n",
       "      <td>-9.3</td>\n",
       "      <td>2.1</td>\n",
       "      <td>6.5</td>\n",
       "      <td>6.2</td>\n",
       "      <td>3.6</td>\n",
       "      <td>-5.1</td>\n",
       "      <td>9.0</td>\n",
       "      <td>6.2</td>\n",
       "      <td>5.4</td>\n",
       "      <td>6.8</td>\n",
       "    </tr>\n",
       "    <tr>\n",
       "      <th>3</th>\n",
       "      <td>농산물및석유류제외지수</td>\n",
       "      <td>1.6</td>\n",
       "      <td>2.0</td>\n",
       "      <td>2.2</td>\n",
       "      <td>1.6</td>\n",
       "      <td>1.5</td>\n",
       "      <td>1.2</td>\n",
       "      <td>0.9</td>\n",
       "      <td>0.7</td>\n",
       "      <td>1.8</td>\n",
       "      <td>4.1</td>\n",
       "      <td>4.0</td>\n",
       "    </tr>\n",
       "    <tr>\n",
       "      <th>4</th>\n",
       "      <td>식료품및에너지제외지수</td>\n",
       "      <td>1.5</td>\n",
       "      <td>1.7</td>\n",
       "      <td>2.4</td>\n",
       "      <td>1.9</td>\n",
       "      <td>1.5</td>\n",
       "      <td>1.2</td>\n",
       "      <td>0.7</td>\n",
       "      <td>0.4</td>\n",
       "      <td>1.4</td>\n",
       "      <td>3.6</td>\n",
       "      <td>3.4</td>\n",
       "    </tr>\n",
       "  </tbody>\n",
       "</table>\n",
       "</div>"
      ],
      "text/plain": [
       "       지수종류(1)  2013  2014  2015  2016  2017  2018  2019  2020  2021  2022  \\\n",
       "0          총지수   1.3   1.3   0.7   1.0   1.9   1.5   0.4   0.5   2.5   5.1   \n",
       "1       생활물가지수   0.7   0.8  -0.2   0.7   2.5   1.6   0.2   0.4   3.2   6.0   \n",
       "2       신선식품지수  -1.3  -9.3   2.1   6.5   6.2   3.6  -5.1   9.0   6.2   5.4   \n",
       "3  농산물및석유류제외지수   1.6   2.0   2.2   1.6   1.5   1.2   0.9   0.7   1.8   4.1   \n",
       "4  식료품및에너지제외지수   1.5   1.7   2.4   1.9   1.5   1.2   0.7   0.4   1.4   3.6   \n",
       "\n",
       "   2023  \n",
       "0   3.6  \n",
       "1   3.9  \n",
       "2   6.8  \n",
       "3   4.0  \n",
       "4   3.4  "
      ]
     },
     "execution_count": 71,
     "metadata": {},
     "output_type": "execute_result"
    }
   ],
   "source": [
    "import pandas as pd\n",
    "\n",
    "df = pd.read_csv('/home/yoon/ws/eda_teamProject/data/inflation_rate_yearly.csv')\n",
    "df.head()"
   ]
  },
  {
   "cell_type": "markdown",
   "metadata": {},
   "source": [
    "### cursor 생성\n",
    "\n",
    "- 읽어올 양이 많으면 burffered = True 설정"
   ]
  },
  {
   "cell_type": "code",
   "execution_count": 72,
   "metadata": {},
   "outputs": [],
   "source": [
    "cur = remote.cursor(buffered=True)"
   ]
  },
  {
   "cell_type": "markdown",
   "metadata": {},
   "source": [
    "### 데이터 입력"
   ]
  },
  {
   "cell_type": "code",
   "execution_count": null,
   "metadata": {},
   "outputs": [
    {
     "name": "stdout",
     "output_type": "stream",
     "text": [
      "데이터가 성공적으로 삽입되었습니다.\n"
     ]
    }
   ],
   "source": [
    "# 생활물가지수 데이터만 선택\n",
    "row_to_insert = df[df['지수종류(1)'] == '총지수'].iloc[0, 1:]  # '지수종류' 컬럼 제외하고 나머지 연도 데이터 선택\n",
    "\n",
    "\n",
    "# 데이터 삽입\n",
    "insert_data_query = \"INSERT INTO INFLATION_RATE_YEARLY (YEAR, RATE) VALUES (%s, %s)\"\n",
    "for year, rate in row_to_insert.items():\n",
    "    cur.execute(insert_data_query, (int(year), float(rate)))\n",
    "\n",
    "# 변경사항 커밋 및 연결 종료\n",
    "remote.commit()\n",
    "cur.close()\n",
    "remote.close()\n",
    "\n",
    "print(\"데이터가 성공적으로 삽입되었습니다.\")"
   ]
  }
 ],
 "metadata": {
  "kernelspec": {
   "display_name": "eda_venv",
   "language": "python",
   "name": "python3"
  },
  "language_info": {
   "codemirror_mode": {
    "name": "ipython",
    "version": 3
   },
   "file_extension": ".py",
   "mimetype": "text/x-python",
   "name": "python",
   "nbconvert_exporter": "python",
   "pygments_lexer": "ipython3",
   "version": "3.10.12"
  }
 },
 "nbformat": 4,
 "nbformat_minor": 2
}
